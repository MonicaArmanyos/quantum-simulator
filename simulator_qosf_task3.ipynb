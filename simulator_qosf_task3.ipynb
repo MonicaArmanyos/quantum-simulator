{
 "cells": [
  {
   "cell_type": "markdown",
   "metadata": {},
   "source": [
    "# Quantum Circuit Simulator Implementation\n",
    "\n",
    "## Description :\n",
    "    We have to define a circuit that consists of a list of gates with a valid format, total number of qubits then:\n",
    "    1. The ground state will be calculated according to the number of qubits.\n",
    "    2. The final state will be calculated .\n",
    "    3. Use a weighted random technique (i.e. choices)to get counts of each state in the superposition in a certain number of shots.\n",
    "    4. Define parameters for the parametric gate u3 to be included in the circuit.\n",
    "    5. Define the states that we want their counts be minimum\n",
    "    6. We use scipy.optimize.minimize with method \"powell\" to get a better value for parameters that makes the counts of unwanted states minimum\n",
    "    "
   ]
  },
  {
   "cell_type": "code",
   "execution_count": 1,
   "metadata": {},
   "outputs": [],
   "source": [
    "import numpy as np\n",
    "from math import sin, cos, pi\n",
    "from cmath import exp\n",
    "from inspect import isfunction\n",
    "from random import choices\n",
    "from scipy.optimize import minimize"
   ]
  },
  {
   "cell_type": "markdown",
   "metadata": {},
   "source": [
    "## Construct the basis gates in our simulator\n",
    "    Our simulator contains identity, X, Hadmard, u3(theta, phi, lambda) gates. "
   ]
  },
  {
   "cell_type": "code",
   "execution_count": 2,
   "metadata": {},
   "outputs": [],
   "source": [
    "def identity() :\n",
    "    return np.identity(2)\n",
    "\n",
    "def x() :\n",
    "    return np.array([\n",
    "        [0, 1],\n",
    "        [1, 0]\n",
    "    ])\n",
    "\n",
    "def h() :\n",
    "    return np.array([\n",
    "        [1/np.sqrt(2), 1/np.sqrt(2)],\n",
    "        [1/np.sqrt(2), -1/np.sqrt(2)]\n",
    "    ])\n",
    "\n",
    "def u3(params) :\n",
    "    return np.array([\n",
    "        [round(cos(params[\"theta\"] / 2.0), 4), -1 * exp(1j * params[\"lambda\"]) * round(sin(params[\"theta\"] / 2.0), 4)],\n",
    "        [exp(1j * params[\"phi\"]) * round(sin(params[\"theta\"] / 2.0), 4), exp(1j * params[\"lambda\"] + 1j * params[\"phi\"]) * round(cos(params[\"theta\"] / 2.0), 4)]\n",
    "    ])"
   ]
  },
  {
   "cell_type": "markdown",
   "metadata": {},
   "source": [
    "## Define circuit validation functions"
   ]
  },
  {
   "cell_type": "code",
   "execution_count": 3,
   "metadata": {},
   "outputs": [],
   "source": [
    "def is_valid_params(keys, params) :\n",
    "    is_valid = True\n",
    "    for key in keys :\n",
    "        if not ( key in params and isinstance(params[key], (int, float))) :\n",
    "            is_valid = False\n",
    "    return is_valid\n",
    "\n",
    "def is_valid_controls(controls, total_qubits) :\n",
    "    is_valid = True\n",
    "    if not isinstance(controls, list) :\n",
    "        is_valid = False\n",
    "    else :\n",
    "       for control in controls :\n",
    "           if not (isinstance(control, int) and (control < total_qubits) and (control >= 0)) :\n",
    "               is_valid = False\n",
    "    return is_valid \n",
    "   \n",
    "def is_valid_circuit(circuit, total_qubits) :\n",
    "    is_valid = True\n",
    "    for gate in circuit :\n",
    "        if not ( \"gate\" in gate and \"target\" in gate and isfunction(gate[\"gate\"]) and \n",
    "                isinstance(gate[\"target\"], int) and (gate[\"target\"] < total_qubits) and (gate[\"target\"] >= 0)) :\n",
    "            is_valid = False\n",
    "        elif gate[\"gate\"] == u3 :\n",
    "            if(\"params\" in gate) :\n",
    "                is_valid = is_valid_params(np.array([\"theta\", \"phi\", \"lambda\"]), gate[\"params\"])\n",
    "            else :\n",
    "                is_valid = False\n",
    "        elif(\"controls\"  in gate) :\n",
    "            is_valid = is_valid_controls(gate[\"controls\"], total_qubits)\n",
    "    return is_valid "
   ]
  },
  {
   "cell_type": "markdown",
   "metadata": {},
   "source": [
    "## Helper functions"
   ]
  },
  {
   "cell_type": "code",
   "execution_count": 4,
   "metadata": {},
   "outputs": [],
   "source": [
    "# Get projection operator |0><0|\n",
    "def p0x0() :\n",
    "    return np.array([\n",
    "        [1, 0],\n",
    "        [0, 0]\n",
    "    ])\n",
    "\n",
    "# Get projection operator |1><1|\n",
    "def p1x1() :\n",
    "    return np.array([\n",
    "        [0, 0],\n",
    "        [0, 1]\n",
    "    ])\n",
    "    \n",
    "def get_ground_state(num_qubits) :\n",
    "    # return vector of size 2**num_qubits with all zeroes except first element which is 1\n",
    "    psi = np.empty(2 ** num_qubits)\n",
    "    psi.fill(0)\n",
    "    psi[0] = 1\n",
    "    return psi\n",
    "\n",
    "def calculate_tensor(operators) :\n",
    "    # the operators are arranged so we can calculate the tensor product as follows:\n",
    "    tensor = np.kron(operators[0], operators[1])\n",
    "    remaining_operators = np.delete(operators, [0, 1], 0)\n",
    "    for operator in remaining_operators :\n",
    "        tensor = np.kron(tensor, operator)\n",
    "    return tensor \n",
    "\n",
    "def get_opertors_within_controlled_gate(controlled_gate_details) :\n",
    "    first_control_pos = controlled_gate_details[\"first_control_pos\"]\n",
    "    total_qubits = controlled_gate_details[\"total_qubits\"]\n",
    "    operators = {0: np.empty(total_qubits, object), 1: []}\n",
    "    # in operators[0] array we append |0><0| in the position of first control (first control is first control from\n",
    "    # upper qubit in case the control position < target position otherwise the first control is the first control\n",
    "    # from the bottom qubit) and append I in all other positons; that's to represent the case if the first control \n",
    "    # is |0> then we apply nothing on target and all other qubits\n",
    "    operators[0].fill(identity())\n",
    "    operators[0][first_control_pos] = p0x0()\n",
    "    # in operators[1] array we append |1><1| in the position of first control and append unitary gate in the position \n",
    "    # of target,but, if the gate is multi-controlled, we recursively calculate the operator of the n-1 controlled gate \n",
    "    # and append the operator in the position of the next control; that's to represent the case if the first control \n",
    "    # is |1> then we apply the gate on target and I on other qubits that are not control nor target\n",
    "    for qubit_index in controlled_gate_details[\"qubit_range\"] :\n",
    "        if qubit_index == first_control_pos :\n",
    "            operators[1].append(p1x1())\n",
    "        else : # qubit doesn't have control nor target\n",
    "            operators[1].append(identity())\n",
    "    remaining_controls = controlled_gate_details[\"controls\"].copy()\n",
    "    remaining_controls.remove(first_control_pos) \n",
    "    if controlled_gate_details[\"is_reversed_gate\"] == False :\n",
    "        # update positions of the controls to calculate the operator of the n-1 controlled gate separately from the \n",
    "        # circuit\n",
    "        remaining_controls[:] = [\n",
    "            remaining_control - (first_control_pos + 1) for remaining_control in remaining_controls\n",
    "        ]\n",
    "    # here we append the operator in the position of the next control, for example : append cnot if the gate was toffoli\n",
    "    operators[1].append(get_operator(\n",
    "        controlled_gate_details[\"next_total_qubits\"], \n",
    "        controlled_gate_details[\"gate_unitary\"], \n",
    "        controlled_gate_details[\"target_qubit\"], remaining_controls\n",
    "    ))\n",
    "    if controlled_gate_details[\"is_reversed_gate\"] == True :\n",
    "        operators[1].reverse()\n",
    "    return operators\n",
    "    \n",
    "def get_operator(total_qubits, gate_unitary, target_qubit, controls = []):\n",
    "    # return unitary operator of size 2**n x 2**n for given gate and controls and target qubits\n",
    "    # We handle cases that the gate is single qubit , controlled, multi-controlled with the target is at any qubit\n",
    "    if controls :\n",
    "        controls.sort()\n",
    "        if controls[0] < target_qubit :\n",
    "            #normal flow\n",
    "            first_control_pos = controls[0]\n",
    "            controlled_gate_details = {\n",
    "                \"controls\": controls,\n",
    "                \"first_control_pos\": first_control_pos,\n",
    "                \"total_qubits\": total_qubits,\n",
    "                \"next_total_qubits\": total_qubits - (first_control_pos + 1),\n",
    "                \"gate_unitary\": gate_unitary,\n",
    "                \"target_qubit\": target_qubit - (first_control_pos + 1),\n",
    "                \"is_reversed_gate\": False,\n",
    "                \"qubit_range\": range(first_control_pos + 1),\n",
    "                \"pos_after_control\": first_control_pos + 1\n",
    "            }             \n",
    "        else :\n",
    "            #the controlled gate is upside down\n",
    "            controls.sort(reverse = True)\n",
    "            last_control_pos = controls[0]\n",
    "            controlled_gate_details = {\n",
    "                \"controls\": controls,\n",
    "                \"first_control_pos\": last_control_pos,\n",
    "                \"total_qubits\": total_qubits,\n",
    "                \"next_total_qubits\": last_control_pos,\n",
    "                \"gate_unitary\": gate_unitary,\n",
    "                \"target_qubit\": target_qubit,\n",
    "                \"is_reversed_gate\": True,\n",
    "                \"qubit_range\": range(total_qubits - 1, last_control_pos - 1, -1),\n",
    "                \"pos_after_control\": last_control_pos - 1\n",
    "            }\n",
    "        operators = get_opertors_within_controlled_gate(controlled_gate_details)\n",
    "        operator = calculate_tensor(operators[0]) + calculate_tensor(operators[1])\n",
    "                  \n",
    "    else :   \n",
    "        operators = np.empty(total_qubits, object)\n",
    "        operators.fill(identity())\n",
    "        operators[target_qubit] = gate_unitary \n",
    "        if total_qubits == 1 :\n",
    "            operator = gate_unitary\n",
    "        else :\n",
    "            operator = calculate_tensor(operators)\n",
    "        \n",
    "    return operator\n",
    "\n",
    "def get_gate_unitary(gate) :\n",
    "    params = gate.get(\"params\")\n",
    "    if params : # parametric gate (i.e. u3)\n",
    "        gate_unitary = gate[\"gate\"](params)\n",
    "    else : \n",
    "        gate_unitary = gate[\"gate\"]()\n",
    "    return gate_unitary\n",
    "\n",
    "def run_program(program) :\n",
    "    # read program, and for each gate:\n",
    "    #   - calculate matrix operator\n",
    "    #   - multiply state with operator\n",
    "    # return final state\n",
    "    state = program[\"initial_state\"]\n",
    "    for gate in program[\"circuit\"] :\n",
    "        gate_unitary = get_gate_unitary(gate)\n",
    "        controls = gate.get(\"controls\") or []\n",
    "        operator = get_operator(program[\"total_qubits\"], gate_unitary, gate[\"target\"], controls)\n",
    "        state = np.dot(state, operator)\n",
    "    return state\n",
    "\n",
    "def measure_all(binary_states, probabilities, num_shots)  :\n",
    "    # get num_shots random results weighted by probabilities\n",
    "    random_results = choices(binary_states, probabilities, k=num_shots) \n",
    "    statistics = {}\n",
    "    for binary_state in binary_states :\n",
    "        statistics[binary_state] = random_results.count(binary_state)\n",
    "    return statistics\n",
    "\n",
    "def get_counts(total_qubits, state_vector, num_shots) :\n",
    "    # return object with statistics in following form:\n",
    "    #   {\n",
    "    #      element_index: number_of_ocurrences,\n",
    "    #      element_index: number_of_ocurrences,\n",
    "    #      element_index: number_of_ocurrences,\n",
    "    #      ...\n",
    "    #   }\n",
    "    # (only for elements which occoured - returned from measure_all)\n",
    "    binary_states = np.array([])\n",
    "    probabilities = np.array([])\n",
    "    for qubit_index in range(2 ** total_qubits) :\n",
    "        if(state_vector[qubit_index] != 0) :\n",
    "            binary_states = np.append(binary_states, format(qubit_index, \"0\" + str(total_qubits) +\"b\"))\n",
    "            probabilities = np.append(probabilities, np.abs(state_vector[qubit_index]) ** 2 )  \n",
    "    return measure_all(binary_states, probabilities, num_shots) \n"
   ]
  },
  {
   "cell_type": "markdown",
   "metadata": {},
   "source": [
    "## Get Circuit depending on parameters\n",
    "- It should be a list of dictionaries, each with key \"gate\" that must be defined in our basis gates above, and key \"target\" that is the index of the target qubit (target means the qubit on which the single qubit gate is applied). \n",
    "- If the gate is controlled, then you can add a \"controls\" key which is a list of control indices that can't be equal to target qubit index.\n",
    "- In the u3 parametric gate, the \"params\" key should be defined as a dictionary of params which are \"lambda\", \"theta\" and \"phi\"\n"
   ]
  },
  {
   "cell_type": "code",
   "execution_count": 5,
   "metadata": {},
   "outputs": [],
   "source": [
    "def circuit(parameters = []) : # parameters is optional if we don't want to use parametric gate\n",
    "    return [\n",
    "    #{ \"gate\": x, \"target\": 1, \"controls\": [0,2]}, # means CNOT gate with control on qubit 0 and 2 and target on qubit 1, where total qubits > 2\n",
    "    #{ \"gate\": h, \"target\": 0}, # Apply hadmard gate on qubit 0\n",
    "    { \"gate\": u3, \"params\": { \"theta\": parameters[0], \"phi\": parameters[1], \"lambda\": 0 }, \"target\": 0}, # Apply u3(theta, phi, lambda) gate on qubit 0\n",
    "    { \"gate\": x, \"target\": 1, \"controls\": [0]} # means CNOT gate with control on qubit 0 and target on qubit 1\n",
    "    ]"
   ]
  },
  {
   "cell_type": "markdown",
   "metadata": {},
   "source": [
    "## Define cost function "
   ]
  },
  {
   "cell_type": "code",
   "execution_count": 6,
   "metadata": {},
   "outputs": [],
   "source": [
    "def calculate_cost(counts, states_to_minimize) :\n",
    "    # the cost is the sum of counts of unwanted states\n",
    "    cost = 0\n",
    "    for state in states_to_minimize :\n",
    "        if state in counts :\n",
    "            cost = cost + counts[state] \n",
    "    return cost"
   ]
  },
  {
   "cell_type": "markdown",
   "metadata": {},
   "source": [
    "## Define objective function"
   ]
  },
  {
   "cell_type": "code",
   "execution_count": 7,
   "metadata": {},
   "outputs": [],
   "source": [
    "def objective_function(params, counts, states_to_minimize) :\n",
    "    # calculate cost & return it\n",
    "    return calculate_cost(counts, states_to_minimize)"
   ]
  },
  {
   "cell_type": "markdown",
   "metadata": {},
   "source": [
    "## Define program:"
   ]
  },
  {
   "cell_type": "markdown",
   "metadata": {},
   "source": [
    "1. Total qubits :"
   ]
  },
  {
   "cell_type": "code",
   "execution_count": 8,
   "metadata": {},
   "outputs": [],
   "source": [
    "total_qubits = 2"
   ]
  },
  {
   "cell_type": "markdown",
   "metadata": {},
   "source": [
    "2. The initial values of u3 parameters which are the angle values theta and phi to be passed to the circuit function\n"
   ]
  },
  {
   "cell_type": "code",
   "execution_count": 9,
   "metadata": {},
   "outputs": [],
   "source": [
    "# initial values\n",
    "parameters = np.array([10.99433535,  7.8527427])"
   ]
  },
  {
   "cell_type": "markdown",
   "metadata": {},
   "source": [
    "3. Define states that we want their counts be nearly zero\n",
    "(here we want states 01 and 10 and write them in binary format)"
   ]
  },
  {
   "cell_type": "code",
   "execution_count": 10,
   "metadata": {},
   "outputs": [],
   "source": [
    "states_to_minimize = np.array([format(1, \"02b\"), format(2, \"02b\")])"
   ]
  },
  {
   "cell_type": "markdown",
   "metadata": {},
   "source": [
    "4. Define the circuit (you should pass parameters if you want to use u3 gate)"
   ]
  },
  {
   "cell_type": "code",
   "execution_count": 11,
   "metadata": {},
   "outputs": [],
   "source": [
    "my_circuit = circuit(parameters)"
   ]
  },
  {
   "cell_type": "markdown",
   "metadata": {},
   "source": [
    "5. If the circuit is valid, the program should calculate ground and final states and use a weighted random technique to get counts of each state in the superposition in a certain number of shots, else error msg will be returned\n",
    "**Note that We are dealing with \"big endian\" encoding**"
   ]
  },
  {
   "cell_type": "code",
   "execution_count": 12,
   "metadata": {},
   "outputs": [
    {
     "name": "stdout",
     "output_type": "stream",
     "text": [
      "counts: {'00': 526, '11': 474} \n",
      "\n",
      "minimization results:\n",
      "    direc: array([[1., 0.],\n",
      "       [0., 1.]])\n",
      "     fun: array(0)\n",
      " message: 'Optimization terminated successfully.'\n",
      "    nfev: 43\n",
      "     nit: 1\n",
      "  status: 0\n",
      " success: True\n",
      "       x: array([13.61191625, 10.4703236 ])\n"
     ]
    }
   ],
   "source": [
    "if (is_valid_circuit(my_circuit, total_qubits)) :\n",
    "    my_qpu = get_ground_state(total_qubits)\n",
    "      \n",
    "    # Run circuit\n",
    "    program = {\"initial_state\": my_qpu, \"circuit\": my_circuit, \"total_qubits\": total_qubits}\n",
    "    final_state = run_program(program)\n",
    "    \n",
    "    # Read results\n",
    "    counts = get_counts(total_qubits, final_state, 1000)\n",
    "    print(\"counts:\", counts, \"\\n\")\n",
    "    \n",
    "    # minimize (trying to minimize states that we don't want)\n",
    "    minimum = minimize(objective_function, parameters, args = (counts, states_to_minimize), method = \"Powell\", tol = 1e-6)\n",
    "    print (\"minimization results:\\n\", minimum)\n",
    "else :\n",
    "    print(\"Please try again with a valid circuit format\")"
   ]
  },
  {
   "cell_type": "code",
   "execution_count": null,
   "metadata": {},
   "outputs": [],
   "source": []
  }
 ],
 "metadata": {
  "kernelspec": {
   "display_name": "Python 3",
   "language": "python",
   "name": "python3"
  },
  "language_info": {
   "codemirror_mode": {
    "name": "ipython",
    "version": 3
   },
   "file_extension": ".py",
   "mimetype": "text/x-python",
   "name": "python",
   "nbconvert_exporter": "python",
   "pygments_lexer": "ipython3",
   "version": "3.8.2"
  }
 },
 "nbformat": 4,
 "nbformat_minor": 4
}
